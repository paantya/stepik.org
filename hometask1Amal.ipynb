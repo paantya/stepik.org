{
 "cells": [
  {
   "cell_type": "markdown",
   "metadata": {},
   "source": [
    "### Домашнее задание № 1\n",
    "\n",
    "**НЕ изменяйте и не удаляйте ячейки, написанные с помощью markdown, только ячейки с кодом**\n",
    "\n",
    "В ходе выполнения задания пользуйтесь:\n",
    "1. [шпаргалкой по Pandas](http://pandas.pydata.org/Pandas_Cheat_Sheet.pdf)\n",
    "2. [официальной документацией по Pandas](https://pandas.pydata.org/pandas-docs/stable/generated/pandas.DataFrame.html#pandas.DataFrame)\n",
    "\n",
    "Вам необходимо будет загрузить для проверки в различные поля два файла:\n",
    "1. этот ipynb файл\n",
    "2. output.xls, полученный в последнем задании. Если каких-то переменные не будут корректно посчитаны, экспортируйте файл, оставив в качестве значений 0 для всех наблюдений\n",
    "\n",
    "Обращаем внимание, что решение каждого задания не должно быть сильно больше пяти строк. Решения в 10+ строк засчитываться не будут.\n",
    "\n",
    "### Задания"
   ]
  },
  {
   "cell_type": "markdown",
   "metadata": {},
   "source": [
    "* Загрузите данные [отсюда](https://sss.krasilnikov.spb.ru/classht/2019-1)\n",
    "* Импортируйте файл с данными data.txt в датафрейм data_imported \n",
    "\n",
    "(**2 балла**)"
   ]
  },
  {
   "cell_type": "code",
   "execution_count": 1,
   "metadata": {
    "scrolled": true
   },
   "outputs": [],
   "source": [
    "import pandas as pd\n",
    "data_imported=pd.read_csv('data.txt',sep =';')\n",
    "data_imported=data_imported.dropna(how='all')\n",
    "data_imported=data_imported.reset_index(drop=True)"
   ]
  },
  {
   "cell_type": "markdown",
   "metadata": {},
   "source": [
    "* Создайте датафрейм data из датафрейма data_imported и приведите типы данных по столбцам в соответствие с данными\n",
    "\n",
    "(**2 балла**)"
   ]
  },
  {
   "cell_type": "code",
   "execution_count": 2,
   "metadata": {
    "scrolled": true
   },
   "outputs": [],
   "source": [
    "data=data_imported.replace('?',float('Nan'))\n",
    "data['wheel-base'] = data['wheel-base'].str.replace(',','.')\n",
    "data=data.apply(pd.to_numeric,errors='ignore')"
   ]
  },
  {
   "cell_type": "markdown",
   "metadata": {},
   "source": [
    "* Создайте в датафрейме data переменную tax_on_buy\n",
    "* Заполните переменную tax_on_buy значениями, где tax_on_buy составляет 20% от цены\n",
    "\n",
    "(**2 балла**)"
   ]
  },
  {
   "cell_type": "code",
   "execution_count": 3,
   "metadata": {},
   "outputs": [],
   "source": [
    "data['tax_on_buy']=data['price']*0.2"
   ]
  },
  {
   "cell_type": "markdown",
   "metadata": {},
   "source": [
    "* Создайте в датафрейме data переменную tax_annual\n",
    "* Заполните переменную tax_on_buy значениями, где tax_annual составляет:\n",
    " * 5 долларов для каждой лошадиной силы для бензиновых \n",
    " * 5 долларов для каждой лошадиной силы до 100 включительно для дизельных машин\n",
    " * 10 долларов для каждой лошадиной силы сверх 100 для дизельных машин\n",
    "* Лишних столбцов не должно быть\n",
    "\n",
    "(**3 балла**)"
   ]
  },
  {
   "cell_type": "code",
   "execution_count": 4,
   "metadata": {
    "scrolled": true
   },
   "outputs": [],
   "source": [
    "data['tax_annual']=data[['fuel-type','horsepower']].apply(lambda x: x[1]*10 if (x[0] == 'diesel' and x[1] > 100) else x[1]*5, axis=1)\n"
   ]
  },
  {
   "cell_type": "markdown",
   "metadata": {},
   "source": [
    "* сохраните в файл с названием output.xls следующие столбцы в указанном порядке из датафрейма data (сам датафрейм data переписывать не нужно):\n",
    " * price\n",
    " * tax_on_buy\n",
    " * tax_annual\n",
    " * make\n",
    " * horsepower\n",
    " * peak-rpm\n",
    " \n",
    "(**2 балла**)"
   ]
  },
  {
   "cell_type": "code",
   "execution_count": 5,
   "metadata": {},
   "outputs": [],
   "source": [
    "data[['price','tax_on_buy','tax_annual','make','horsepower','peak-rpm']].to_excel('output.xls')"
   ]
  },
  {
   "cell_type": "code",
   "execution_count": null,
   "metadata": {},
   "outputs": [],
   "source": []
  },
  {
   "cell_type": "code",
   "execution_count": null,
   "metadata": {},
   "outputs": [],
   "source": []
  }
 ],
 "metadata": {
  "kernelspec": {
   "display_name": "Python 3",
   "language": "python",
   "name": "python3"
  },
  "language_info": {
   "codemirror_mode": {
    "name": "ipython",
    "version": 3
   },
   "file_extension": ".py",
   "mimetype": "text/x-python",
   "name": "python",
   "nbconvert_exporter": "python",
   "pygments_lexer": "ipython3",
   "version": "3.6.4"
  }
 },
 "nbformat": 4,
 "nbformat_minor": 2
}
